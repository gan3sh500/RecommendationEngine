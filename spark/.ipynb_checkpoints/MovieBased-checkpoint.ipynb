{
 "cells": [
  {
   "cell_type": "code",
   "execution_count": 2,
   "metadata": {
    "collapsed": true
   },
   "outputs": [],
   "source": [
    "from pyspark.sql import SQLContext,Row\n",
    "from pyspark.sql import functions as F\n",
    "from pyspark import SparkContext\n",
    "import numpy as np\n",
    "import pandas as pd\n",
    "sqlContext = SQLContext(sc)\n",
    "\n",
    "dataDir = \"/home/satvik/Analytics/Recommender Project\"\n",
    "\n",
    "userData = sc.textFile(dataDir+\"/ml-100k/u.user\").map(lambda x : x.split(\"|\"))\n",
    "movieData = sc.textFile(dataDir+\"/ml-100k/u.item\").map(lambda x : x.split(\"|\"))\n",
    "ratingData = sc.textFile(dataDir+\"/ml-100k/u.data\").map(lambda x : x.split(\"\\t\"))"
   ]
  },
  {
   "cell_type": "code",
   "execution_count": 3,
   "metadata": {
    "collapsed": false
   },
   "outputs": [],
   "source": [
    "userID = 455"
   ]
  },
  {
   "cell_type": "code",
   "execution_count": 5,
   "metadata": {
    "collapsed": true
   },
   "outputs": [],
   "source": [
    "userWatchedMoviesRatings = ratingData.filter(lambda x: int(x[0]) == userID)"
   ]
  },
  {
   "cell_type": "code",
   "execution_count": 6,
   "metadata": {
    "collapsed": false
   },
   "outputs": [],
   "source": [
    "movieData = movieData.map(lambda x: list(x[i] for i in ([0]+range(6,24))))"
   ]
  },
  {
   "cell_type": "code",
   "execution_count": 7,
   "metadata": {
    "collapsed": false
   },
   "outputs": [],
   "source": [
    "userWatchedMovies = userWatchedMoviesRatings.map(lambda x : int(x[1]))\n",
    "userWatchedMovies = userWatchedMovies.collect()\n",
    "userWatchedMoviesData = movieData.filter(lambda x: int(x[0]) in userWatchedMovies)"
   ]
  },
  {
   "cell_type": "code",
   "execution_count": 8,
   "metadata": {
    "collapsed": false
   },
   "outputs": [
    {
     "data": {
      "text/plain": [
       "189"
      ]
     },
     "execution_count": 8,
     "metadata": {},
     "output_type": "execute_result"
    }
   ],
   "source": [
    "userWatchedMoviesData.count()"
   ]
  },
  {
   "cell_type": "code",
   "execution_count": 9,
   "metadata": {
    "collapsed": false
   },
   "outputs": [
    {
     "data": {
      "text/plain": [
       "[[u'455', u'135', u'5', u'879111248'],\n",
       " [u'455', u'629', u'3', u'879111371'],\n",
       " [u'455', u'293', u'4', u'879109110'],\n",
       " [u'455', u'755', u'3', u'879112189']]"
      ]
     },
     "execution_count": 9,
     "metadata": {},
     "output_type": "execute_result"
    }
   ],
   "source": [
    "userWatchedMoviesRatings.take(4)"
   ]
  },
  {
   "cell_type": "code",
   "execution_count": null,
   "metadata": {
    "collapsed": true
   },
   "outputs": [],
   "source": []
  }
 ],
 "metadata": {
  "kernelspec": {
   "display_name": "Python 2",
   "language": "python",
   "name": "python2"
  },
  "language_info": {
   "codemirror_mode": {
    "name": "ipython",
    "version": 2
   },
   "file_extension": ".py",
   "mimetype": "text/x-python",
   "name": "python",
   "nbconvert_exporter": "python",
   "pygments_lexer": "ipython2",
   "version": "2.7.6"
  }
 },
 "nbformat": 4,
 "nbformat_minor": 0
}
