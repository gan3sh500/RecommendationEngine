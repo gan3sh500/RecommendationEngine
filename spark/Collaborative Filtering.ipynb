{
 "cells": [
  {
   "cell_type": "code",
   "execution_count": 1,
   "metadata": {
    "collapsed": true
   },
   "outputs": [],
   "source": [
    "from pyspark.sql import SQLContext,Row\n",
    "from pyspark.sql import functions as F\n",
    "from pyspark import SparkContext\n",
    "\n",
    "sqlContext = SQLContext(sc)\n",
    "\n",
    "dataDir = \"/home/rsk/Documents/RecommenderProject\"\n",
    "\n",
    "userData = sc.textFile(dataDir+\"/ml-100k/u.user\").map(lambda x : x.split(\"|\"))\n",
    "movieData = sc.textFile(dataDir+\"/ml-100k/u.item\").map(lambda x : x.split(\"|\"))\n",
    "ratingData = sc.textFile(dataDir+\"/ml-100k/u.data\").map(lambda x : x.split(\"\\t\"))"
   ]
  },
  {
   "cell_type": "code",
   "execution_count": 2,
   "metadata": {
    "collapsed": true
   },
   "outputs": [],
   "source": [
    "ratingDataDF = ratingData.map(lambda x : Row(userID = int(x[0]),\n",
    "                        movieID = int(x[1]),\n",
    "                        rating=float(x[2]),\n",
    "                        timestamp = int(x[3])))\n",
    "ratingDataDF = sqlContext.createDataFrame(ratingDataDF)\n",
    "\n",
    "userDataDF = userData.map(lambda x : Row(userID=int(x[0]),\n",
    "                                        age = int(x[1]),\n",
    "                                        gender = x[2],\n",
    "                                        occupation = x[3],\n",
    "                                        zipcode = x[4]))\n",
    "userDataDF = sqlContext.createDataFrame(userDataDF)\n",
    "\n",
    "movieDataDF = movieData.map(lambda x : Row(movieID = int(x[0]),\n",
    "                                            movieTitle = x[1],\n",
    "                                            releaseDate = x[2],\n",
    "                                            videoReleaseDate = x[3],\n",
    "                                            IMDBurl = x[4],\n",
    "                                            unknown= int(x[5]),\n",
    "                                            action = int(x[6]),\n",
    "                                            adventure = int(x[7]),\n",
    "                                            animation = int(x[8]),\n",
    "                                            childrens = int(x[9]),\n",
    "                                            comedy = int(x[10]),\n",
    "                                             crime = int(x[11]),\n",
    "                                             documentary = int(x[12]),\n",
    "                                             drama = int(x[13]),\n",
    "                                             fantasy = int(x[14]),\n",
    "                                             filmNoir = int(x[15]),\n",
    "                                             horror = int(x[16]),\n",
    "                                             musical = int(x[17]),\n",
    "                                             mystery = int(x[18]),\n",
    "                                             romance = int(x[19]),\n",
    "                                             sciFi = int(x[20]),\n",
    "                                             thriller = int(x[21]),\n",
    "                                             war = int(x[22]),\n",
    "                                             western = int(x[23])))\n",
    "movieDataDF = sqlContext.createDataFrame(movieDataDF)"
   ]
  },
  {
   "cell_type": "code",
   "execution_count": 5,
   "metadata": {
    "collapsed": true
   },
   "outputs": [],
   "source": [
    "# timestamp\n",
    "def extract_datetime(ts):\n",
    "    import datetime\n",
    "    return datetime.datetime.fromtimestamp(ts)\n",
    "\n",
    "####\n",
    "newdataDF = ratingDataDF.map(lambda x: Row(x[0],x[1],x[2],x[3],extract_datetime(x[2]).day,\n",
    "                                           extract_datetime(x[2]).month,extract_datetime(x[2]).year,\n",
    "                                           extract_datetime(x[2]).hour,extract_datetime(x[2]).minute,\n",
    "                                           extract_datetime(x[2]).second)).toDF()\n",
    "ratingDataDF = newdataDF.selectExpr(\"_1 as movieID\",\"_2 as rating\",\"_3 as timestamp\",\"_4 as userID\",\n",
    "                                        \"_5 as date\",\"_6 as month\",\"_7 as year\",\n",
    "                                        \"_8 as hour\",\"_9 as minute\",\"_10 as second\")"
   ]
  },
  {
   "cell_type": "code",
   "execution_count": 7,
   "metadata": {
    "collapsed": false
   },
   "outputs": [
    {
     "name": "stdout",
     "output_type": "stream",
     "text": [
      "+---+---+---------+---+---+---+----+---+---+---+\n",
      "| _1| _2|       _3| _4| _5| _6|  _7| _8| _9|_10|\n",
      "+---+---+---------+---+---+---+----+---+---+---+\n",
      "|242|3.0|881250949|196|  4| 12|1997| 21| 25| 49|\n",
      "|302|3.0|891717742|186|  5|  4|1998|  0| 52| 22|\n",
      "|377|1.0|878887116| 22|  7| 11|1997| 12| 48| 36|\n",
      "+---+---+---------+---+---+---+----+---+---+---+\n",
      "only showing top 3 rows\n",
      "\n"
     ]
    }
   ],
   "source": [
    "newdataDF.show(3)"
   ]
  },
  {
   "cell_type": "code",
   "execution_count": 8,
   "metadata": {
    "collapsed": false
   },
   "outputs": [
    {
     "name": "stdout",
     "output_type": "stream",
     "text": [
      "+-------+------+---------+------+----+-----+----+----+------+------+\n",
      "|movieID|rating|timestamp|userID|date|month|year|hour|minute|second|\n",
      "+-------+------+---------+------+----+-----+----+----+------+------+\n",
      "|    242|   3.0|881250949|   196|   4|   12|1997|  21|    25|    49|\n",
      "|    302|   3.0|891717742|   186|   5|    4|1998|   0|    52|    22|\n",
      "|    377|   1.0|878887116|    22|   7|   11|1997|  12|    48|    36|\n",
      "+-------+------+---------+------+----+-----+----+----+------+------+\n",
      "only showing top 3 rows\n",
      "\n"
     ]
    }
   ],
   "source": [
    "ratingDataDF.show(3)"
   ]
  },
  {
   "cell_type": "markdown",
   "metadata": {},
   "source": [
    "### Merging Datasets"
   ]
  },
  {
   "cell_type": "code",
   "execution_count": 9,
   "metadata": {
    "collapsed": true
   },
   "outputs": [],
   "source": [
    "data = ratingDataDF.join(userDataDF, ratingDataDF.userID==userDataDF.userID, 'inner').drop(userDataDF.userID)"
   ]
  },
  {
   "cell_type": "code",
   "execution_count": 10,
   "metadata": {
    "collapsed": true
   },
   "outputs": [],
   "source": [
    "data = data.join(movieDataDF,data.movieID==movieDataDF.movieID,\"inner\").drop(movieDataDF.movieID)"
   ]
  },
  {
   "cell_type": "code",
   "execution_count": 12,
   "metadata": {
    "collapsed": false
   },
   "outputs": [
    {
     "data": {
      "text/plain": [
       "100000"
      ]
     },
     "execution_count": 12,
     "metadata": {},
     "output_type": "execute_result"
    }
   ],
   "source": [
    "data.count()"
   ]
  },
  {
   "cell_type": "code",
   "execution_count": 14,
   "metadata": {
    "collapsed": false
   },
   "outputs": [],
   "source": [
    "train,test = data.rdd.randomSplit([8,2],seed=45)"
   ]
  },
  {
   "cell_type": "code",
   "execution_count": 16,
   "metadata": {
    "collapsed": false
   },
   "outputs": [
    {
     "data": {
      "text/plain": [
       "20109"
      ]
     },
     "execution_count": 16,
     "metadata": {},
     "output_type": "execute_result"
    }
   ],
   "source": [
    "test.count()"
   ]
  },
  {
   "cell_type": "code",
   "execution_count": 15,
   "metadata": {
    "collapsed": false
   },
   "outputs": [
    {
     "data": {
      "text/plain": [
       "79891"
      ]
     },
     "execution_count": 15,
     "metadata": {},
     "output_type": "execute_result"
    }
   ],
   "source": [
    "train.count()"
   ]
  },
  {
   "cell_type": "code",
   "execution_count": 237,
   "metadata": {
    "collapsed": false
   },
   "outputs": [],
   "source": [
    "totalRDD  = data.rdd.map(lambda x : (x[0],x[3],x[1]))\n",
    "trainRDD = train.map(lambda x : (x[0],x[3],x[1]))\n",
    "testRDD = test.map(lambda x : (x[0],x[3]))"
   ]
  },
  {
   "cell_type": "code",
   "execution_count": 20,
   "metadata": {
    "collapsed": true
   },
   "outputs": [],
   "source": [
    "from pyspark.mllib.recommendation import ALS\n",
    "import math\n",
    "\n",
    "seed = 5L\n",
    "iterations = 2\n",
    "regularization_parameter = 0.1\n",
    "ranks = [18,15,12]\n",
    "errors=[0,0,0]\n",
    "\n",
    "err= 0\n",
    "tolerance = 0.02\n",
    "\n",
    "min_error = float('inf')\n",
    "best_rank = -1\n",
    "best_iteration = -1\n"
   ]
  },
  {
   "cell_type": "code",
   "execution_count": 238,
   "metadata": {
    "collapsed": true
   },
   "outputs": [],
   "source": [
    "model = ALS.train(totalRDD, rank = 5, seed = seed, iterations = iterations, lambda_ = regularization_parameter)"
   ]
  },
  {
   "cell_type": "code",
   "execution_count": 239,
   "metadata": {
    "collapsed": true
   },
   "outputs": [],
   "source": [
    "user_features = model.userFeatures()"
   ]
  },
  {
   "cell_type": "code",
   "execution_count": 158,
   "metadata": {
    "collapsed": true
   },
   "outputs": [],
   "source": [
    "import numpy as np\n",
    "\n",
    "def euclidDist( x,y ):\n",
    "    return np.sqrt(np.sum(np.subtract(x,y)**2))"
   ]
  },
  {
   "cell_type": "code",
   "execution_count": 284,
   "metadata": {
    "collapsed": false
   },
   "outputs": [],
   "source": [
    "def getRecommendations_user(userID,user_features , neighborCount=5,neighborMovieCount=10,moviesToRecommend=10):\n",
    "    \n",
    "    feature = user_features.filter( lambda x : x[0]==userID ).take(1)[0][1]\n",
    "    \n",
    "    user_features2 = user_features.map(lambda x : (x[0], euclidDist(x[1],feature) )).sortBy(lambda x : x[1])\n",
    "    neighborList = user_features2.map(lambda x : x[0]).take(neighborCount)\n",
    "    \n",
    "    \n",
    "    \n",
    "    movieList=[]\n",
    "    for i in range(len(neighborList)):\n",
    "        data = ratingDataDF.filter(ratingDataDF['userID']== neighborList[i]).sort(\"rating\",ascending = False).select(\"movieID\")\n",
    "        newData = data.map(lambda x : x[0]).take(neighborMovieCount)\n",
    "        movieList += newData\n",
    "    \n",
    "    movieList =  sc.parallelize(movieList).map(lambda x : (x,1)).reduceByKey(lambda x,y : x+y).sortBy(lambda x : -x[1]).collect()\n",
    "    \n",
    "    recommendList=[]\n",
    "    for i in range(moviesToRecommend):\n",
    "        recommendList.append(movieDataDF.filter(movieDataDF['movieID']==movieList[i][0]).select('movieTitle').map(lambda x : x[0]).collect()[0])\n",
    "    return recommendList\n",
    "    "
   ]
  },
  {
   "cell_type": "code",
   "execution_count": 285,
   "metadata": {
    "collapsed": false,
    "scrolled": true
   },
   "outputs": [
    {
     "name": "stdout",
     "output_type": "stream",
     "text": [
      "[100, 463, 517, 492, 505]\n"
     ]
    },
    {
     "data": {
      "text/plain": [
       "[u'Titanic (1997)',\n",
       " u'Contact (1997)',\n",
       " u'Emma (1996)',\n",
       " u'Godfather, The (1972)',\n",
       " u'Apostle, The (1997)',\n",
       " u'Replacement Killers, The (1998)',\n",
       " u\"It's a Wonderful Life (1946)\",\n",
       " u'Killing Fields, The (1984)',\n",
       " u'Pulp Fiction (1994)',\n",
       " u'Dunston Checks In (1996)']"
      ]
     },
     "execution_count": 285,
     "metadata": {},
     "output_type": "execute_result"
    }
   ],
   "source": [
    "a=getRecommendations_user(100,user_features)\n",
    "a"
   ]
  },
  {
   "cell_type": "code",
   "execution_count": 187,
   "metadata": {
    "collapsed": false
   },
   "outputs": [],
   "source": [
    "a=ratingDataDF.filter(ratingDataDF['userID']==196).sort(\"rating\",ascending=False).select(\"movieID\")"
   ]
  },
  {
   "cell_type": "code",
   "execution_count": null,
   "metadata": {
    "collapsed": true
   },
   "outputs": [],
   "source": [
    "def userPreferences(userID, moviesToRecommend):\n",
    "    \n",
    "    ratingDataDF.filter(ratingDataDF['userID']==userID).sort(\"rating\")"
   ]
  }
 ],
 "metadata": {
  "kernelspec": {
   "display_name": "Python 2",
   "language": "python",
   "name": "python2"
  },
  "language_info": {
   "codemirror_mode": {
    "name": "ipython",
    "version": 2
   },
   "file_extension": ".py",
   "mimetype": "text/x-python",
   "name": "python",
   "nbconvert_exporter": "python",
   "pygments_lexer": "ipython2",
   "version": "2.7.6"
  }
 },
 "nbformat": 4,
 "nbformat_minor": 0
}
