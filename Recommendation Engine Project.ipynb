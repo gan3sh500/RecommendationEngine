{
 "cells": [
  {
   "cell_type": "markdown",
   "metadata": {},
   "source": [
    "### Importing datasets"
   ]
  },
  {
   "cell_type": "code",
   "execution_count": 75,
   "metadata": {
    "collapsed": false
   },
   "outputs": [],
   "source": [
    "from pyspark.sql import SQLContext,Row\n",
    "from pyspark.sql import functions as F\n",
    "\n",
    "dataDir = \"/home/rsk/Documents/Spark\""
   ]
  },
  {
   "cell_type": "code",
   "execution_count": 76,
   "metadata": {
    "collapsed": true
   },
   "outputs": [],
   "source": [
    "userData = sc.textFile(dataDir+\"/ml-100k/u.user\").map(lambda x : x.split(\"|\"))"
   ]
  },
  {
   "cell_type": "code",
   "execution_count": 77,
   "metadata": {
    "collapsed": false
   },
   "outputs": [],
   "source": [
    "movieData = sc.textFile(dataDir+\"/ml-100k/u.item\").map(lambda x : x.split(\"|\"))"
   ]
  },
  {
   "cell_type": "code",
   "execution_count": 78,
   "metadata": {
    "collapsed": false
   },
   "outputs": [],
   "source": [
    "ratingData = sc.textFile(dataDir+\"/ml-100k/u.data\").map(lambda x : x.split(\"\\t\"))"
   ]
  },
  {
   "cell_type": "code",
   "execution_count": 79,
   "metadata": {
    "collapsed": false
   },
   "outputs": [],
   "source": [
    "#TO-DO : Convert to Spark DataFrame\n",
    "\n",
    "ratingDataDF = ratingData.map(lambda x : Row(userID = int(x[0]),\n",
    "                        movieID = int(x[1]),\n",
    "                        rating=float(x[2]),\n",
    "                        timestamp = int(x[3])))\n",
    "ratingDataDF = sqlContext.createDataFrame(ratingDataDF)"
   ]
  },
  {
   "cell_type": "code",
   "execution_count": 80,
   "metadata": {
    "collapsed": true
   },
   "outputs": [],
   "source": [
    "userDataDF = userData.map(lambda x : Row(userID=int(x[0]),\n",
    "                                        age = int(x[1]),\n",
    "                                        gender = x[2],\n",
    "                                        occupation = x[3],\n",
    "                                        zipcode = x[4]))\n",
    "userDataDF = sqlContext.createDataFrame(userDataDF)"
   ]
  },
  {
   "cell_type": "code",
   "execution_count": 81,
   "metadata": {
    "collapsed": false
   },
   "outputs": [],
   "source": [
    "movieDataDF = movieData.map(lambda x : Row(movieID = int(x[0]),\n",
    "                                            movieTitle = x[1],\n",
    "                                            releaseDate = x[2],\n",
    "                                            videoReleaseDate = x[3],\n",
    "                                            IMDBurl = x[4],\n",
    "                                            unknown= int(x[5]),\n",
    "                                            action = int(x[6]),\n",
    "                                            adventure = int(x[7]),\n",
    "                                            animation = int(x[8]),\n",
    "                                            childrens = int(x[9]),\n",
    "                                            comedy = int(x[10]),\n",
    "                                             crime = int(x[11]),\n",
    "                                             documentary = int(x[12]),\n",
    "                                             drama = int(x[13]),\n",
    "                                             fantasy = int(x[14]),\n",
    "                                             filmNoir = int(x[15]),\n",
    "                                             horror = int(x[16]),\n",
    "                                             musical = int(x[17]),\n",
    "                                             mystery = int(x[18]),\n",
    "                                             romance = int(x[19]),\n",
    "                                             sciFi = int(x[20]),\n",
    "                                             thriller = int(x[21]),\n",
    "                                             war = int(x[22]),\n",
    "                                             western = int(x[23])))\n",
    "movieDataDF = sqlContext.createDataFrame(movieDataDF)\n",
    "                                             "
   ]
  },
  {
   "cell_type": "code",
   "execution_count": 84,
   "metadata": {
    "collapsed": false
   },
   "outputs": [
    {
     "name": "stdout",
     "output_type": "stream",
     "text": [
      "+-------+------+---------+------+\n",
      "|movieID|rating|timestamp|userID|\n",
      "+-------+------+---------+------+\n",
      "|    242|   3.0|881250949|   196|\n",
      "|    302|   3.0|891717742|   186|\n",
      "|    377|   1.0|878887116|    22|\n",
      "|     51|   2.0|880606923|   244|\n",
      "|    346|   1.0|886397596|   166|\n",
      "+-------+------+---------+------+\n",
      "only showing top 5 rows\n",
      "\n"
     ]
    }
   ],
   "source": [
    "ratingDataDF.show(5)"
   ]
  },
  {
   "cell_type": "code",
   "execution_count": 86,
   "metadata": {
    "collapsed": false
   },
   "outputs": [],
   "source": [
    "#Taking smaller subsets of original dataset\n",
    "\n",
    "u = sqlContext.createDataFrame(userDataDF.rdd.zipWithIndex().filter(lambda x : x[1]<15).map(lambda x : x[0]))\n",
    "\n"
   ]
  },
  {
   "cell_type": "code",
   "execution_count": 95,
   "metadata": {
    "collapsed": false
   },
   "outputs": [],
   "source": [
    "userID = u.map(lambda x : x.userID).collect()\n",
    "\n",
    "r = ratingDataDF[ratingDataDF.userID.isin(userID)][ratingDataDF.columns]"
   ]
  },
  {
   "cell_type": "code",
   "execution_count": 97,
   "metadata": {
    "collapsed": false
   },
   "outputs": [
    {
     "data": {
      "text/plain": [
       "2536"
      ]
     },
     "execution_count": 97,
     "metadata": {},
     "output_type": "execute_result"
    }
   ],
   "source": [
    "r.count()"
   ]
  },
  {
   "cell_type": "code",
   "execution_count": 98,
   "metadata": {
    "collapsed": false
   },
   "outputs": [
    {
     "data": {
      "text/plain": [
       "[1, 2, 3, 4, 5, 6, 7, 8, 9, 10, 11, 12, 13, 14, 15]"
      ]
     },
     "execution_count": 98,
     "metadata": {},
     "output_type": "execute_result"
    }
   ],
   "source": [
    "userID"
   ]
  },
  {
   "cell_type": "code",
   "execution_count": null,
   "metadata": {
    "collapsed": true
   },
   "outputs": [],
   "source": [
    "r = ratingsDF"
   ]
  },
  {
   "cell_type": "code",
   "execution_count": 20,
   "metadata": {
    "collapsed": false,
    "scrolled": true
   },
   "outputs": [],
   "source": [
    "ratings = sqlContext.createDataFrame(ratings)"
   ]
  },
  {
   "cell_type": "code",
   "execution_count": 21,
   "metadata": {
    "collapsed": false
   },
   "outputs": [
    {
     "name": "stdout",
     "output_type": "stream",
     "text": [
      "+-------+------+---------+------+\n",
      "|movieID|rating|timestamp|userID|\n",
      "+-------+------+---------+------+\n",
      "|    242|   3.0|881250949|   196|\n",
      "|    302|   3.0|891717742|   186|\n",
      "|    377|   1.0|878887116|    22|\n",
      "|     51|   2.0|880606923|   244|\n",
      "|    346|   1.0|886397596|   166|\n",
      "|    474|   4.0|884182806|   298|\n",
      "|    265|   2.0|881171488|   115|\n",
      "|    465|   5.0|891628467|   253|\n",
      "|    451|   3.0|886324817|   305|\n",
      "|     86|   3.0|883603013|     6|\n",
      "|    257|   2.0|879372434|    62|\n",
      "|   1014|   5.0|879781125|   286|\n",
      "|    222|   5.0|876042340|   200|\n",
      "|     40|   3.0|891035994|   210|\n",
      "|     29|   3.0|888104457|   224|\n",
      "|    785|   3.0|879485318|   303|\n",
      "|    387|   5.0|879270459|   122|\n",
      "|    274|   2.0|879539794|   194|\n",
      "|   1042|   4.0|874834944|   291|\n",
      "|   1184|   2.0|892079237|   234|\n",
      "+-------+------+---------+------+\n",
      "only showing top 20 rows\n",
      "\n"
     ]
    }
   ],
   "source": [
    "ratings.show()"
   ]
  },
  {
   "cell_type": "code",
   "execution_count": 31,
   "metadata": {
    "collapsed": false
   },
   "outputs": [
    {
     "data": {
      "text/plain": [
       "Column<rating[data]>"
      ]
     },
     "execution_count": 31,
     "metadata": {},
     "output_type": "execute_result"
    }
   ],
   "source": [
    "ratings"
   ]
  },
  {
   "cell_type": "code",
   "execution_count": 20,
   "metadata": {
    "collapsed": true
   },
   "outputs": [],
   "source": [
    "schema = sqlContext.createDataFrame(user_data)"
   ]
  },
  {
   "cell_type": "code",
   "execution_count": 21,
   "metadata": {
    "collapsed": false
   },
   "outputs": [
    {
     "name": "stdout",
     "output_type": "stream",
     "text": [
      "+---+---+---+-------------+-----+\n",
      "| _1| _2| _3|           _4|   _5|\n",
      "+---+---+---+-------------+-----+\n",
      "|  1| 24|  M|   technician|85711|\n",
      "|  2| 53|  F|        other|94043|\n",
      "|  3| 23|  M|       writer|32067|\n",
      "|  4| 24|  M|   technician|43537|\n",
      "|  5| 33|  F|        other|15213|\n",
      "|  6| 42|  M|    executive|98101|\n",
      "|  7| 57|  M|administrator|91344|\n",
      "|  8| 36|  M|administrator|05201|\n",
      "|  9| 29|  M|      student|01002|\n",
      "| 10| 53|  M|       lawyer|90703|\n",
      "| 11| 39|  F|        other|30329|\n",
      "| 12| 28|  F|        other|06405|\n",
      "| 13| 47|  M|     educator|29206|\n",
      "| 14| 45|  M|    scientist|55106|\n",
      "| 15| 49|  F|     educator|97301|\n",
      "| 16| 21|  M|entertainment|10309|\n",
      "| 17| 30|  M|   programmer|06355|\n",
      "| 18| 35|  F|        other|37212|\n",
      "| 19| 40|  M|    librarian|02138|\n",
      "| 20| 42|  F|    homemaker|95660|\n",
      "+---+---+---+-------------+-----+\n",
      "only showing top 20 rows\n",
      "\n"
     ]
    }
   ],
   "source": [
    "schema.show()"
   ]
  },
  {
   "cell_type": "code",
   "execution_count": 23,
   "metadata": {
    "collapsed": false
   },
   "outputs": [
    {
     "name": "stdout",
     "output_type": "stream",
     "text": [
      "+---+---+---+-------------+-----+\n",
      "| _1| _2| _3|           _4|   _5|\n",
      "+---+---+---+-------------+-----+\n",
      "|  2| 53|  F|        other|94043|\n",
      "|  7| 57|  M|administrator|91344|\n",
      "| 10| 53|  M|       lawyer|90703|\n",
      "| 47| 53|  M|    marketing|07102|\n",
      "| 65| 51|  F|     educator|48118|\n",
      "| 85| 51|  M|     educator|20003|\n",
      "| 90| 60|  M|     educator|78155|\n",
      "| 91| 55|  M|    marketing|01913|\n",
      "|106| 61|  M|      retired|55125|\n",
      "|111| 57|  M|     engineer|90630|\n",
      "|121| 54|  M|    librarian|99603|\n",
      "|131| 59|  F|administrator|15237|\n",
      "|133| 53|  M|     engineer|78602|\n",
      "|136| 51|  M|        other|97365|\n",
      "|144| 53|  M|   programmer|20910|\n",
      "|157| 57|  M|     engineer|70808|\n",
      "|169| 52|  F|        other|53705|\n",
      "|170| 53|  F|   healthcare|30067|\n",
      "|172| 55|  M|    marketing|22207|\n",
      "|173| 56|  M|        other|22306|\n",
      "+---+---+---+-------------+-----+\n",
      "only showing top 20 rows\n",
      "\n"
     ]
    }
   ],
   "source": [
    "df = schema\n",
    "df.filter(df['_2']>50).show()"
   ]
  },
  {
   "cell_type": "code",
   "execution_count": 24,
   "metadata": {
    "collapsed": false
   },
   "outputs": [
    {
     "data": {
      "text/plain": [
       "<bound method DataFrame.printSchema of DataFrame[_1: string, _2: string, _3: string, _4: string, _5: string]>"
      ]
     },
     "execution_count": 24,
     "metadata": {},
     "output_type": "execute_result"
    }
   ],
   "source": [
    "df.printSchema"
   ]
  },
  {
   "cell_type": "code",
   "execution_count": 26,
   "metadata": {
    "collapsed": false
   },
   "outputs": [
    {
     "ename": "AttributeError",
     "evalue": "can't set attribute",
     "output_type": "error",
     "traceback": [
      "\u001b[1;31m---------------------------------------------------------------------------\u001b[0m",
      "\u001b[1;31mAttributeError\u001b[0m                            Traceback (most recent call last)",
      "\u001b[1;32m<ipython-input-26-edcecbb18fdc>\u001b[0m in \u001b[0;36m<module>\u001b[1;34m()\u001b[0m\n\u001b[1;32m----> 1\u001b[1;33m \u001b[0mdf\u001b[0m\u001b[1;33m.\u001b[0m\u001b[0mcolumns\u001b[0m\u001b[1;33m=\u001b[0m\u001b[1;33m[\u001b[0m\u001b[1;34m'userID'\u001b[0m\u001b[1;33m,\u001b[0m\u001b[1;34m'Age'\u001b[0m\u001b[1;33m,\u001b[0m\u001b[1;34m'Gender'\u001b[0m\u001b[1;33m,\u001b[0m\u001b[1;34m'Occupation'\u001b[0m\u001b[1;33m,\u001b[0m\u001b[1;34m'ZipCode'\u001b[0m\u001b[1;33m]\u001b[0m\u001b[1;33m\u001b[0m\u001b[0m\n\u001b[0m",
      "\u001b[1;31mAttributeError\u001b[0m: can't set attribute"
     ]
    }
   ],
   "source": [
    "df.columns=['userID','Age','Gender','Occupation','ZipCode']"
   ]
  },
  {
   "cell_type": "code",
   "execution_count": null,
   "metadata": {
    "collapsed": true
   },
   "outputs": [],
   "source": []
  }
 ],
 "metadata": {
  "kernelspec": {
   "display_name": "Python 2",
   "language": "python",
   "name": "python2"
  },
  "language_info": {
   "codemirror_mode": {
    "name": "ipython",
    "version": 2
   },
   "file_extension": ".py",
   "mimetype": "text/x-python",
   "name": "python",
   "nbconvert_exporter": "python",
   "pygments_lexer": "ipython2",
   "version": "2.7.6"
  }
 },
 "nbformat": 4,
 "nbformat_minor": 0
}
