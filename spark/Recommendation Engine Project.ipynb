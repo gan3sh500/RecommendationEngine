{
 "cells": [
  {
   "cell_type": "markdown",
   "metadata": {},
   "source": [
    "### Importing datasets"
   ]
  },
  {
   "cell_type": "code",
   "execution_count": 75,
   "metadata": {
    "collapsed": false
   },
   "outputs": [],
   "source": [
    "from pyspark.sql import SQLContext,Row\n",
    "from pyspark.sql import functions as F\n",
    "\n",
    "dataDir = \"/home/rsk/Documents/Spark\""
   ]
  },
  {
   "cell_type": "code",
   "execution_count": 76,
   "metadata": {
    "collapsed": true
   },
   "outputs": [],
   "source": [
    "userData = sc.textFile(dataDir+\"/ml-100k/u.user\").map(lambda x : x.split(\"|\"))"
   ]
  },
  {
   "cell_type": "code",
   "execution_count": 77,
   "metadata": {
    "collapsed": false
   },
   "outputs": [],
   "source": [
    "movieData = sc.textFile(dataDir+\"/ml-100k/u.item\").map(lambda x : x.split(\"|\"))"
   ]
  },
  {
   "cell_type": "code",
   "execution_count": 78,
   "metadata": {
    "collapsed": false
   },
   "outputs": [],
   "source": [
    "ratingData = sc.textFile(dataDir+\"/ml-100k/u.data\").map(lambda x : x.split(\"\\t\"))"
   ]
  },
  {
   "cell_type": "code",
   "execution_count": 79,
   "metadata": {
    "collapsed": false
   },
   "outputs": [],
   "source": [
    "#TO-DO : Convert RDD to Spark DataFrame\n",
    "\n",
    "ratingDataDF = ratingData.map(lambda x : Row(userID = int(x[0]),\n",
    "                        movieID = int(x[1]),\n",
    "                        rating=float(x[2]),\n",
    "                        timestamp = int(x[3])))\n",
    "ratingDataDF = sqlContext.createDataFrame(ratingDataDF)"
   ]
  },
  {
   "cell_type": "code",
   "execution_count": 80,
   "metadata": {
    "collapsed": true
   },
   "outputs": [],
   "source": [
    "userDataDF = userData.map(lambda x : Row(userID=int(x[0]),\n",
    "                                        age = int(x[1]),\n",
    "                                        gender = x[2],\n",
    "                                        occupation = x[3],\n",
    "                                        zipcode = x[4]))\n",
    "userDataDF = sqlContext.createDataFrame(userDataDF)"
   ]
  },
  {
   "cell_type": "code",
   "execution_count": 81,
   "metadata": {
    "collapsed": false
   },
   "outputs": [],
   "source": [
    "movieDataDF = movieData.map(lambda x : Row(movieID = int(x[0]),\n",
    "                                            movieTitle = x[1],\n",
    "                                            releaseDate = x[2],\n",
    "                                            videoReleaseDate = x[3],\n",
    "                                            IMDBurl = x[4],\n",
    "                                            unknown= int(x[5]),\n",
    "                                            action = int(x[6]),\n",
    "                                            adventure = int(x[7]),\n",
    "                                            animation = int(x[8]),\n",
    "                                            childrens = int(x[9]),\n",
    "                                            comedy = int(x[10]),\n",
    "                                             crime = int(x[11]),\n",
    "                                             documentary = int(x[12]),\n",
    "                                             drama = int(x[13]),\n",
    "                                             fantasy = int(x[14]),\n",
    "                                             filmNoir = int(x[15]),\n",
    "                                             horror = int(x[16]),\n",
    "                                             musical = int(x[17]),\n",
    "                                             mystery = int(x[18]),\n",
    "                                             romance = int(x[19]),\n",
    "                                             sciFi = int(x[20]),\n",
    "                                             thriller = int(x[21]),\n",
    "                                             war = int(x[22]),\n",
    "                                             western = int(x[23])))\n",
    "movieDataDF = sqlContext.createDataFrame(movieDataDF)\n",
    "                                             "
   ]
  },
  {
   "cell_type": "code",
   "execution_count": 84,
   "metadata": {
    "collapsed": false
   },
   "outputs": [
    {
     "name": "stdout",
     "output_type": "stream",
     "text": [
      "+-------+------+---------+------+\n",
      "|movieID|rating|timestamp|userID|\n",
      "+-------+------+---------+------+\n",
      "|    242|   3.0|881250949|   196|\n",
      "|    302|   3.0|891717742|   186|\n",
      "|    377|   1.0|878887116|    22|\n",
      "|     51|   2.0|880606923|   244|\n",
      "|    346|   1.0|886397596|   166|\n",
      "+-------+------+---------+------+\n",
      "only showing top 5 rows\n",
      "\n"
     ]
    }
   ],
   "source": [
    "ratingDataDF.show(5)"
   ]
  },
  {
   "cell_type": "code",
   "execution_count": null,
   "metadata": {
    "collapsed": true
   },
   "outputs": [],
   "source": [
    "#Appending Index column to ratingDataDF\n",
    "\n",
    "indexDF"
   ]
  },
  {
   "cell_type": "code",
   "execution_count": 86,
   "metadata": {
    "collapsed": false
   },
   "outputs": [],
   "source": [
    "#Taking smaller subsets of original dataset\n",
    "\n",
    "u = sqlContext.createDataFrame(userDataDF.rdd.zipWithIndex().filter(lambda x : x[1]<15).map(lambda x : x[0]))\n",
    "\n"
   ]
  },
  {
   "cell_type": "code",
   "execution_count": 95,
   "metadata": {
    "collapsed": false
   },
   "outputs": [],
   "source": [
    "userID = u.map(lambda x : x.userID).collect()\n",
    "\n",
    "r = ratingDataDF[ratingDataDF.userID.isin(userID)][ratingDataDF.columns]"
   ]
  },
  {
   "cell_type": "code",
   "execution_count": 97,
   "metadata": {
    "collapsed": false
   },
   "outputs": [
    {
     "data": {
      "text/plain": [
       "2536"
      ]
     },
     "execution_count": 97,
     "metadata": {},
     "output_type": "execute_result"
    }
   ],
   "source": [
    "r.count()"
   ]
  },
  {
   "cell_type": "markdown",
   "metadata": {},
   "source": [
    "### Merging Datasets"
   ]
  },
  {
   "cell_type": "code",
   "execution_count": 101,
   "metadata": {
    "collapsed": false
   },
   "outputs": [],
   "source": [
    "u=u.join(ratingDataDF,u.userID==ratingDataDF.userID,'inner')"
   ]
  },
  {
   "cell_type": "code",
   "execution_count": 103,
   "metadata": {
    "collapsed": false
   },
   "outputs": [
    {
     "name": "stdout",
     "output_type": "stream",
     "text": [
      "+---+------+----------+------+-------+-------+------+---------+------+\n",
      "|age|gender|occupation|userID|zipcode|movieID|rating|timestamp|userID|\n",
      "+---+------+----------+------+-------+-------+------+---------+------+\n",
      "| 24|     M|technician|     1|  85711|     61|   4.0|878542420|     1|\n",
      "| 24|     M|technician|     1|  85711|    189|   3.0|888732928|     1|\n",
      "| 24|     M|technician|     1|  85711|     33|   4.0|878542699|     1|\n",
      "| 24|     M|technician|     1|  85711|    160|   4.0|875072547|     1|\n",
      "| 24|     M|technician|     1|  85711|     20|   4.0|887431883|     1|\n",
      "| 24|     M|technician|     1|  85711|    202|   5.0|875072442|     1|\n",
      "| 24|     M|technician|     1|  85711|    171|   5.0|889751711|     1|\n",
      "| 24|     M|technician|     1|  85711|    265|   4.0|878542441|     1|\n",
      "| 24|     M|technician|     1|  85711|    155|   2.0|878542201|     1|\n",
      "| 24|     M|technician|     1|  85711|    117|   3.0|874965739|     1|\n",
      "| 24|     M|technician|     1|  85711|     47|   4.0|875072125|     1|\n",
      "| 24|     M|technician|     1|  85711|    222|   4.0|878873388|     1|\n",
      "| 24|     M|technician|     1|  85711|    253|   5.0|874965970|     1|\n",
      "| 24|     M|technician|     1|  85711|    113|   5.0|878542738|     1|\n",
      "| 24|     M|technician|     1|  85711|    227|   4.0|876892946|     1|\n",
      "| 24|     M|technician|     1|  85711|     17|   3.0|875073198|     1|\n",
      "| 24|     M|technician|     1|  85711|     90|   4.0|878542300|     1|\n",
      "| 24|     M|technician|     1|  85711|     64|   5.0|875072404|     1|\n",
      "| 24|     M|technician|     1|  85711|     92|   3.0|876892425|     1|\n",
      "| 24|     M|technician|     1|  85711|    228|   5.0|878543541|     1|\n",
      "+---+------+----------+------+-------+-------+------+---------+------+\n",
      "only showing top 20 rows\n",
      "\n"
     ]
    }
   ],
   "source": [
    "u.show()"
   ]
  },
  {
   "cell_type": "code",
   "execution_count": 134,
   "metadata": {
    "collapsed": false,
    "scrolled": true
   },
   "outputs": [],
   "source": [
    "data = ratingDataDF.join(userDataDF, userDataDF.userID==ratingDataDF.userID,\"inner\").drop(userDataDF.userID)\n",
    "\n",
    "#drop is being used as merging on userID creates two copies of userID in the resulting dataFrame"
   ]
  },
  {
   "cell_type": "code",
   "execution_count": 148,
   "metadata": {
    "collapsed": false
   },
   "outputs": [
    {
     "data": {
      "text/plain": [
       "DataFrame[movieID: bigint, rating: double, timestamp: bigint, userID: bigint, age: bigint, gender: string, occupation: string, zipcode: string, IMDBurl: string, action: bigint, adventure: bigint, animation: bigint, childrens: bigint, comedy: bigint, crime: bigint, documentary: bigint, drama: bigint, fantasy: bigint, filmNoir: bigint, horror: bigint, movieTitle: string, musical: bigint, mystery: bigint, releaseDate: string, romance: bigint, sciFi: bigint, thriller: bigint, unknown: bigint, videoReleaseDate: string, war: bigint, western: bigint]"
      ]
     },
     "execution_count": 148,
     "metadata": {},
     "output_type": "execute_result"
    }
   ],
   "source": [
    "data"
   ]
  },
  {
   "cell_type": "code",
   "execution_count": 130,
   "metadata": {
    "collapsed": false
   },
   "outputs": [
    {
     "name": "stdout",
     "output_type": "stream",
     "text": [
      "100000\n",
      "+-------+------+---------+------+---+------+----------+-------+\n",
      "|movieID|rating|timestamp|userID|age|gender|occupation|zipcode|\n",
      "+-------+------+---------+------+---+------+----------+-------+\n",
      "|    886|   2.0|881547877|    31| 24|     M|    artist|  10003|\n",
      "|    484|   5.0|881548030|    31| 24|     M|    artist|  10003|\n",
      "|    682|   2.0|881547834|    31| 24|     M|    artist|  10003|\n",
      "|    302|   4.0|881547719|    31| 24|     M|    artist|  10003|\n",
      "|    135|   4.0|881548030|    31| 24|     M|    artist|  10003|\n",
      "|    705|   5.0|881548110|    31| 24|     M|    artist|  10003|\n",
      "|    504|   5.0|881548110|    31| 24|     M|    artist|  10003|\n",
      "|    498|   4.0|881548111|    31| 24|     M|    artist|  10003|\n",
      "|    493|   5.0|881548110|    31| 24|     M|    artist|  10003|\n",
      "|    321|   4.0|881547746|    31| 24|     M|    artist|  10003|\n",
      "|    514|   5.0|881548030|    31| 24|     M|    artist|  10003|\n",
      "|    124|   4.0|881548110|    31| 24|     M|    artist|  10003|\n",
      "|     79|   2.0|881548082|    31| 24|     M|    artist|  10003|\n",
      "|    340|   3.0|881547788|    31| 24|     M|    artist|  10003|\n",
      "|    268|   3.0|881547746|    31| 24|     M|    artist|  10003|\n",
      "|     32|   5.0|881548030|    31| 24|     M|    artist|  10003|\n",
      "|    175|   5.0|881548053|    31| 24|     M|    artist|  10003|\n",
      "|    490|   4.0|881548030|    31| 24|     M|    artist|  10003|\n",
      "|    875|   4.0|881547938|    31| 24|     M|    artist|  10003|\n",
      "|    319|   4.0|881547788|    31| 24|     M|    artist|  10003|\n",
      "+-------+------+---------+------+---+------+----------+-------+\n",
      "only showing top 20 rows\n",
      "\n"
     ]
    }
   ],
   "source": [
    "print data.count()\n",
    "data.show()"
   ]
  },
  {
   "cell_type": "code",
   "execution_count": 135,
   "metadata": {
    "collapsed": false
   },
   "outputs": [],
   "source": [
    "data = data.join(movieDataDF,data.movieID==movieDataDF.movieID,\"inner\").drop(movieDataDF.movieID)"
   ]
  },
  {
   "cell_type": "code",
   "execution_count": 138,
   "metadata": {
    "collapsed": false
   },
   "outputs": [
    {
     "name": "stdout",
     "output_type": "stream",
     "text": [
      "100000\n"
     ]
    }
   ],
   "source": [
    "print data.count()\n"
   ]
  },
  {
   "cell_type": "code",
   "execution_count": 137,
   "metadata": {
    "collapsed": false
   },
   "outputs": [
    {
     "data": {
      "text/plain": [
       "['movieID',\n",
       " 'rating',\n",
       " 'timestamp',\n",
       " 'userID',\n",
       " 'age',\n",
       " 'gender',\n",
       " 'occupation',\n",
       " 'zipcode',\n",
       " 'IMDBurl',\n",
       " 'action',\n",
       " 'adventure',\n",
       " 'animation',\n",
       " 'childrens',\n",
       " 'comedy',\n",
       " 'crime',\n",
       " 'documentary',\n",
       " 'drama',\n",
       " 'fantasy',\n",
       " 'filmNoir',\n",
       " 'horror',\n",
       " 'movieTitle',\n",
       " 'musical',\n",
       " 'mystery',\n",
       " 'releaseDate',\n",
       " 'romance',\n",
       " 'sciFi',\n",
       " 'thriller',\n",
       " 'unknown',\n",
       " 'videoReleaseDate',\n",
       " 'war',\n",
       " 'western']"
      ]
     },
     "execution_count": 137,
     "metadata": {},
     "output_type": "execute_result"
    }
   ],
   "source": [
    "data.columns"
   ]
  },
  {
   "cell_type": "code",
   "execution_count": 149,
   "metadata": {
    "collapsed": false
   },
   "outputs": [
    {
     "name": "stdout",
     "output_type": "stream",
     "text": [
      "+-------+-----------------+-----------------+\n",
      "|summary|          movieID|           rating|\n",
      "+-------+-----------------+-----------------+\n",
      "|  count|           100000|           100000|\n",
      "|   mean|        425.53013|          3.52986|\n",
      "| stddev|330.7983563255848|1.125673599144316|\n",
      "|    min|                1|              1.0|\n",
      "|    max|             1682|              5.0|\n",
      "+-------+-----------------+-----------------+\n",
      "\n"
     ]
    }
   ],
   "source": [
    "data.describe(\"movieID\",\"rating\").show()"
   ]
  },
  {
   "cell_type": "code",
   "execution_count": 151,
   "metadata": {
    "collapsed": false
   },
   "outputs": [
    {
     "name": "stdout",
     "output_type": "stream",
     "text": [
      "+-------+------+---------+\n",
      "|movieID|rating|timestamp|\n",
      "+-------+------+---------+\n",
      "|     31|   4.0|891354612|\n",
      "|     31|   3.0|880610814|\n",
      "|     31|   4.0|892334803|\n",
      "|     31|   5.0|884131157|\n",
      "|     31|   3.0|890687473|\n",
      "|     31|   3.0|883391249|\n",
      "|     31|   4.0|878348998|\n",
      "|     31|   4.0|880603484|\n",
      "|     31|   4.0|883948571|\n",
      "|     31|   4.0|878856526|\n",
      "|     31|   4.0|879572688|\n",
      "|     31|   4.0|875807058|\n",
      "|     31|   4.0|879111937|\n",
      "|     31|   3.0|887523200|\n",
      "|     31|   4.0|892679259|\n",
      "|     31|   5.0|882164867|\n",
      "|     31|   4.0|882397543|\n",
      "|     31|   3.0|875148108|\n",
      "|     31|   3.0|876017533|\n",
      "|     31|   4.0|891299387|\n",
      "+-------+------+---------+\n",
      "only showing top 20 rows\n",
      "\n"
     ]
    }
   ],
   "source": [
    "data.select(data.columns[0:3]).show()"
   ]
  },
  {
   "cell_type": "code",
   "execution_count": 156,
   "metadata": {
    "collapsed": false
   },
   "outputs": [],
   "source": [
    "data2 = data.sample(False,0.5,234)"
   ]
  },
  {
   "cell_type": "code",
   "execution_count": 158,
   "metadata": {
    "collapsed": false
   },
   "outputs": [
    {
     "name": "stdout",
     "output_type": "stream",
     "text": [
      "+-------+------+---------+\n",
      "|movieID|rating|timestamp|\n",
      "+-------+------+---------+\n",
      "|     31|   3.0|880610814|\n",
      "|     31|   5.0|884131157|\n",
      "|     31|   4.0|880603484|\n",
      "|     31|   4.0|883948571|\n",
      "|     31|   4.0|879111937|\n",
      "|     31|   4.0|892679259|\n",
      "|     31|   3.0|875148108|\n",
      "|     31|   4.0|891299387|\n",
      "|     31|   4.0|889493628|\n",
      "|     31|   3.0|884294880|\n",
      "|     31|   3.0|880314500|\n",
      "|     31|   4.0|878972119|\n",
      "|     31|   5.0|880078656|\n",
      "|     31|   4.0|875310311|\n",
      "|     31|   3.0|875287615|\n",
      "|     31|   4.0|885849325|\n",
      "|     31|   2.0|883546333|\n",
      "|     31|   4.0|887926573|\n",
      "|     31|   4.0|874795704|\n",
      "|     31|   3.0|884753292|\n",
      "+-------+------+---------+\n",
      "only showing top 20 rows\n",
      "\n"
     ]
    }
   ],
   "source": [
    "data2.select(data2.columns[0:3]).show()"
   ]
  },
  {
   "cell_type": "code",
   "execution_count": 160,
   "metadata": {
    "collapsed": true
   },
   "outputs": [],
   "source": [
    "data2 = data2.sort(data2.timestamp)"
   ]
  },
  {
   "cell_type": "code",
   "execution_count": 162,
   "metadata": {
    "collapsed": false
   },
   "outputs": [
    {
     "name": "stdout",
     "output_type": "stream",
     "text": [
      "+-------+------+---------+\n",
      "|movieID|rating|timestamp|\n",
      "+-------+------+---------+\n",
      "|    255|   4.0|874724710|\n",
      "|    286|   4.0|874724727|\n",
      "|    298|   4.0|874724754|\n",
      "|    108|   4.0|874724882|\n",
      "|    288|   3.0|874724905|\n",
      "|    117|   4.0|874724988|\n",
      "|    405|   3.0|874725120|\n",
      "|   1074|   3.0|874725264|\n",
      "|    357|   5.0|874725485|\n",
      "|    210|   4.0|874725485|\n",
      "|    687|   2.0|874728168|\n",
      "|    284|   3.0|874728338|\n",
      "|    147|   4.0|874728461|\n",
      "|    121|   4.0|874728565|\n",
      "|    717|   3.0|874728598|\n",
      "|    220|   5.0|874729682|\n",
      "|    417|   4.0|874729750|\n",
      "|    731|   5.0|874729750|\n",
      "|     50|   4.0|874729750|\n",
      "|    623|   4.0|874729778|\n",
      "+-------+------+---------+\n",
      "only showing top 20 rows\n",
      "\n"
     ]
    }
   ],
   "source": [
    "data2.select(data2.columns[0:3]).show()"
   ]
  }
 ],
 "metadata": {
  "kernelspec": {
   "display_name": "Python 2",
   "language": "python",
   "name": "python2"
  },
  "language_info": {
   "codemirror_mode": {
    "name": "ipython",
    "version": 2
   },
   "file_extension": ".py",
   "mimetype": "text/x-python",
   "name": "python",
   "nbconvert_exporter": "python",
   "pygments_lexer": "ipython2",
   "version": "2.7.6"
  }
 },
 "nbformat": 4,
 "nbformat_minor": 0
}
