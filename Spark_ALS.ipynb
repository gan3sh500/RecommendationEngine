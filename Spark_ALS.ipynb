{
 "cells": [
  {
   "cell_type": "markdown",
   "metadata": {},
   "source": [
    "# Importing Datasets"
   ]
  },
  {
   "cell_type": "code",
   "execution_count": 1,
   "metadata": {
    "collapsed": true
   },
   "outputs": [],
   "source": [
    "from pyspark.sql import SQLContext,Row\n",
    "from pyspark.sql import functions as F\n",
    "from pyspark import SparkContext"
   ]
  },
  {
   "cell_type": "code",
   "execution_count": 2,
   "metadata": {
    "collapsed": false
   },
   "outputs": [],
   "source": [
    "sqlContext = SQLContext(sc)"
   ]
  },
  {
   "cell_type": "code",
   "execution_count": 3,
   "metadata": {
    "collapsed": true
   },
   "outputs": [],
   "source": [
    "dataDir = \"/home/harshit/spark-1.6.0-bin-hadoop2.6/Recommendation\"\n",
    "\n",
    "userData = sc.textFile(dataDir+\"/ml-100k/u.user\").map(lambda x : x.split(\"|\"))\n",
    "movieData = sc.textFile(dataDir+\"/ml-100k/u.item\").map(lambda x : x.split(\"|\"))\n",
    "ratingData = sc.textFile(dataDir+\"/ml-100k/u.data\").map(lambda x : x.split(\"\\t\"))\n",
    "\n",
    "#%%"
   ]
  },
  {
   "cell_type": "code",
   "execution_count": 4,
   "metadata": {
    "collapsed": false
   },
   "outputs": [],
   "source": [
    "ratingDataDF = ratingData.map(lambda x : Row(userID = int(x[0]),\n",
    "                        movieID = int(x[1]),\n",
    "                        rating=float(x[2]),\n",
    "                        timestamp = int(x[3])))\n",
    "ratingDataDF = sqlContext.createDataFrame(ratingDataDF)\n",
    "\n",
    "userDataDF = userData.map(lambda x : Row(userID=int(x[0]),\n",
    "                                        age = int(x[1]),\n",
    "                                        gender = x[2],\n",
    "                                        occupation = x[3],\n",
    "                                        zipcode = x[4]))\n",
    "userDataDF = sqlContext.createDataFrame(userDataDF)\n",
    "\n",
    "movieDataDF = movieData.map(lambda x : Row(movieID = int(x[0]),\n",
    "                                            movieTitle = x[1],\n",
    "                                            releaseDate = x[2],\n",
    "                                            videoReleaseDate = x[3],\n",
    "                                            IMDBurl = x[4],\n",
    "                                            unknown= int(x[5]),\n",
    "                                            action = int(x[6]),\n",
    "                                            adventure = int(x[7]),\n",
    "                                            animation = int(x[8]),\n",
    "                                            childrens = int(x[9]),\n",
    "                                            comedy = int(x[10]),\n",
    "                                             crime = int(x[11]),\n",
    "                                             documentary = int(x[12]),\n",
    "                                             drama = int(x[13]),\n",
    "                                             fantasy = int(x[14]),\n",
    "                                             filmNoir = int(x[15]),\n",
    "                                             horror = int(x[16]),\n",
    "                                             musical = int(x[17]),\n",
    "                                             mystery = int(x[18]),\n",
    "                                             romance = int(x[19]),\n",
    "                                             sciFi = int(x[20]),\n",
    "                                             thriller = int(x[21]),\n",
    "                                             war = int(x[22]),\n",
    "                                             western = int(x[23])))\n",
    "movieDataDF = sqlContext.createDataFrame(movieDataDF)\n",
    "\n",
    "#%%\n"
   ]
  },
  {
   "cell_type": "code",
   "execution_count": 5,
   "metadata": {
    "collapsed": false
   },
   "outputs": [
    {
     "data": {
      "text/plain": [
       "943"
      ]
     },
     "execution_count": 5,
     "metadata": {},
     "output_type": "execute_result"
    }
   ],
   "source": [
    "userDataDF.count()"
   ]
  },
  {
   "cell_type": "code",
   "execution_count": 6,
   "metadata": {
    "collapsed": false
   },
   "outputs": [
    {
     "name": "stdout",
     "output_type": "stream",
     "text": [
      "+---+------+-------------+------+-------+\n",
      "|age|gender|   occupation|userID|zipcode|\n",
      "+---+------+-------------+------+-------+\n",
      "| 24|     M|   technician|     1|  85711|\n",
      "| 53|     F|        other|     2|  94043|\n",
      "| 23|     M|       writer|     3|  32067|\n",
      "| 24|     M|   technician|     4|  43537|\n",
      "| 33|     F|        other|     5|  15213|\n",
      "| 42|     M|    executive|     6|  98101|\n",
      "| 57|     M|administrator|     7|  91344|\n",
      "| 36|     M|administrator|     8|  05201|\n",
      "| 29|     M|      student|     9|  01002|\n",
      "| 53|     M|       lawyer|    10|  90703|\n",
      "| 39|     F|        other|    11|  30329|\n",
      "| 28|     F|        other|    12|  06405|\n",
      "| 47|     M|     educator|    13|  29206|\n",
      "| 45|     M|    scientist|    14|  55106|\n",
      "| 49|     F|     educator|    15|  97301|\n",
      "| 21|     M|entertainment|    16|  10309|\n",
      "| 30|     M|   programmer|    17|  06355|\n",
      "| 35|     F|        other|    18|  37212|\n",
      "| 40|     M|    librarian|    19|  02138|\n",
      "| 42|     F|    homemaker|    20|  95660|\n",
      "+---+------+-------------+------+-------+\n",
      "only showing top 20 rows\n",
      "\n"
     ]
    }
   ],
   "source": [
    "userDataDF.show()"
   ]
  },
  {
   "cell_type": "markdown",
   "metadata": {},
   "source": [
    "# Merging Datasets"
   ]
  },
  {
   "cell_type": "code",
   "execution_count": 8,
   "metadata": {
    "collapsed": false
   },
   "outputs": [],
   "source": [
    "data = ratingDataDF.join(userDataDF, ratingDataDF.userID==userDataDF.userID, 'inner').drop(userDataDF.userID)"
   ]
  },
  {
   "cell_type": "code",
   "execution_count": 9,
   "metadata": {
    "collapsed": false
   },
   "outputs": [
    {
     "name": "stdout",
     "output_type": "stream",
     "text": [
      "+-------+------+---------+------+---+------+----------+-------+\n",
      "|movieID|rating|timestamp|userID|age|gender|occupation|zipcode|\n",
      "+-------+------+---------+------+---+------+----------+-------+\n",
      "|    886|   2.0|881547877|    31| 24|     M|    artist|  10003|\n",
      "|    484|   5.0|881548030|    31| 24|     M|    artist|  10003|\n",
      "|    682|   2.0|881547834|    31| 24|     M|    artist|  10003|\n",
      "|    302|   4.0|881547719|    31| 24|     M|    artist|  10003|\n",
      "|    135|   4.0|881548030|    31| 24|     M|    artist|  10003|\n",
      "|    705|   5.0|881548110|    31| 24|     M|    artist|  10003|\n",
      "|    504|   5.0|881548110|    31| 24|     M|    artist|  10003|\n",
      "|    498|   4.0|881548111|    31| 24|     M|    artist|  10003|\n",
      "|    493|   5.0|881548110|    31| 24|     M|    artist|  10003|\n",
      "|    321|   4.0|881547746|    31| 24|     M|    artist|  10003|\n",
      "|    514|   5.0|881548030|    31| 24|     M|    artist|  10003|\n",
      "|    124|   4.0|881548110|    31| 24|     M|    artist|  10003|\n",
      "|     79|   2.0|881548082|    31| 24|     M|    artist|  10003|\n",
      "|    340|   3.0|881547788|    31| 24|     M|    artist|  10003|\n",
      "|    268|   3.0|881547746|    31| 24|     M|    artist|  10003|\n",
      "|     32|   5.0|881548030|    31| 24|     M|    artist|  10003|\n",
      "|    175|   5.0|881548053|    31| 24|     M|    artist|  10003|\n",
      "|    490|   4.0|881548030|    31| 24|     M|    artist|  10003|\n",
      "|    875|   4.0|881547938|    31| 24|     M|    artist|  10003|\n",
      "|    319|   4.0|881547788|    31| 24|     M|    artist|  10003|\n",
      "+-------+------+---------+------+---+------+----------+-------+\n",
      "only showing top 20 rows\n",
      "\n"
     ]
    }
   ],
   "source": [
    "data.show()"
   ]
  },
  {
   "cell_type": "code",
   "execution_count": 10,
   "metadata": {
    "collapsed": true
   },
   "outputs": [],
   "source": [
    "data = data.join(movieDataDF,data.movieID==movieDataDF.movieID,\"inner\").drop(movieDataDF.movieID)"
   ]
  },
  {
   "cell_type": "code",
   "execution_count": 11,
   "metadata": {
    "collapsed": false
   },
   "outputs": [
    {
     "data": {
      "text/plain": [
       "['movieID',\n",
       " 'rating',\n",
       " 'timestamp',\n",
       " 'userID',\n",
       " 'age',\n",
       " 'gender',\n",
       " 'occupation',\n",
       " 'zipcode',\n",
       " 'IMDBurl',\n",
       " 'action',\n",
       " 'adventure',\n",
       " 'animation',\n",
       " 'childrens',\n",
       " 'comedy',\n",
       " 'crime',\n",
       " 'documentary',\n",
       " 'drama',\n",
       " 'fantasy',\n",
       " 'filmNoir',\n",
       " 'horror',\n",
       " 'movieTitle',\n",
       " 'musical',\n",
       " 'mystery',\n",
       " 'releaseDate',\n",
       " 'romance',\n",
       " 'sciFi',\n",
       " 'thriller',\n",
       " 'unknown',\n",
       " 'videoReleaseDate',\n",
       " 'war',\n",
       " 'western']"
      ]
     },
     "execution_count": 11,
     "metadata": {},
     "output_type": "execute_result"
    }
   ],
   "source": [
    "data.columns"
   ]
  },
  {
   "cell_type": "markdown",
   "metadata": {},
   "source": [
    "# ALS"
   ]
  },
  {
   "cell_type": "code",
   "execution_count": 12,
   "metadata": {
    "collapsed": false
   },
   "outputs": [],
   "source": [
    "RDD_data = data.rdd"
   ]
  },
  {
   "cell_type": "markdown",
   "metadata": {},
   "source": [
    "### Splitting data"
   ]
  },
  {
   "cell_type": "code",
   "execution_count": 13,
   "metadata": {
    "collapsed": false
   },
   "outputs": [],
   "source": [
    "train,validation,test = RDD_data.randomSplit([6,2,2],seed=0L)"
   ]
  },
  {
   "cell_type": "code",
   "execution_count": 14,
   "metadata": {
    "collapsed": false
   },
   "outputs": [
    {
     "data": {
      "text/plain": [
       "[Row(movieID=31, rating=5.0, timestamp=884131157, userID=435, age=24, gender=u'M', occupation=u'engineer', zipcode=u'60007', IMDBurl=u'http://us.imdb.com/M/title-exact?Crimson%20Tide%20(1995)', action=0, adventure=0, animation=0, childrens=0, comedy=0, crime=0, documentary=0, drama=1, fantasy=0, filmNoir=0, horror=0, movieTitle=u'Crimson Tide (1995)', musical=0, mystery=0, releaseDate=u'01-Jan-1995', romance=0, sciFi=0, thriller=1, unknown=0, videoReleaseDate=u'', war=1, western=0),\n",
       " Row(movieID=31, rating=3.0, timestamp=890687473, userID=41, age=33, gender=u'M', occupation=u'engineer', zipcode=u'80525', IMDBurl=u'http://us.imdb.com/M/title-exact?Crimson%20Tide%20(1995)', action=0, adventure=0, animation=0, childrens=0, comedy=0, crime=0, documentary=0, drama=1, fantasy=0, filmNoir=0, horror=0, movieTitle=u'Crimson Tide (1995)', musical=0, mystery=0, releaseDate=u'01-Jan-1995', romance=0, sciFi=0, thriller=1, unknown=0, videoReleaseDate=u'', war=1, western=0),\n",
       " Row(movieID=31, rating=4.0, timestamp=875807058, userID=851, age=18, gender=u'M', occupation=u'other', zipcode=u'29646', IMDBurl=u'http://us.imdb.com/M/title-exact?Crimson%20Tide%20(1995)', action=0, adventure=0, animation=0, childrens=0, comedy=0, crime=0, documentary=0, drama=1, fantasy=0, filmNoir=0, horror=0, movieTitle=u'Crimson Tide (1995)', musical=0, mystery=0, releaseDate=u'01-Jan-1995', romance=0, sciFi=0, thriller=1, unknown=0, videoReleaseDate=u'', war=1, western=0)]"
      ]
     },
     "execution_count": 14,
     "metadata": {},
     "output_type": "execute_result"
    }
   ],
   "source": [
    "validation.take(3)"
   ]
  },
  {
   "cell_type": "code",
   "execution_count": 15,
   "metadata": {
    "collapsed": true
   },
   "outputs": [],
   "source": [
    "train_RDD = train.map(lambda x: (x[0],x[3],x[1]))\n",
    "validation_for_predict_RDD = validation.map(lambda x: (x[0], x[3]))\n",
    "test_for_predict_RDD = test.map(lambda x: (x[0], x[3]))"
   ]
  },
  {
   "cell_type": "code",
   "execution_count": 16,
   "metadata": {
    "collapsed": false
   },
   "outputs": [
    {
     "data": {
      "text/plain": [
       "[(31, 435), (31, 41), (31, 851)]"
      ]
     },
     "execution_count": 16,
     "metadata": {},
     "output_type": "execute_result"
    }
   ],
   "source": [
    "validation_for_predict_RDD.take(3)"
   ]
  },
  {
   "cell_type": "code",
   "execution_count": 17,
   "metadata": {
    "collapsed": false
   },
   "outputs": [
    {
     "name": "stdout",
     "output_type": "stream",
     "text": [
      "Iteration starts...\n",
      "For rank 4 the RMSE is 1.03349017039\n",
      "Iteration starts...\n",
      "For rank 8 the RMSE is 1.02156565372\n",
      "Iteration starts...\n",
      "For rank 12 the RMSE is 0.98847546646\n",
      "The best model was trained with rank 12\n"
     ]
    }
   ],
   "source": [
    "from pyspark.mllib.recommendation import ALS\n",
    "import math\n",
    "\n",
    "seed = 5L\n",
    "iterations = 2\n",
    "regularization_parameter = 0.1\n",
    "ranks = [4, 8, 12]\n",
    "errors = [0, 0, 0]\n",
    "err = 0\n",
    "tolerance = 0.02\n",
    "\n",
    "min_error = float('inf')\n",
    "best_rank = -1\n",
    "best_iteration = -1\n",
    "for rank in ranks:\n",
    "    print \"Iteration starts...\"\n",
    "    model = ALS.train(train_RDD, rank, seed=seed, iterations=iterations,\n",
    "                      lambda_=regularization_parameter)\n",
    "    predictions = model.predictAll(validation_for_predict_RDD).map(lambda r: ((r[0], r[1]), r[2]))\n",
    "    rates_and_preds = validation.map(lambda r: ((int(r[0]), int(r[3])), float(r[1]))).join(predictions)\n",
    "    error = math.sqrt(rates_and_preds.map(lambda r: (r[1][0] - r[1][1])**2).mean())\n",
    "    errors[err] = error\n",
    "    err += 1\n",
    "    print 'For rank %s the RMSE is %s' % (rank, error)\n",
    "    if error < min_error:\n",
    "        min_error = error\n",
    "        best_rank = rank\n",
    "\n",
    "print 'The best model was trained with rank %s' % best_rank"
   ]
  },
  {
   "cell_type": "code",
   "execution_count": 18,
   "metadata": {
    "collapsed": false
   },
   "outputs": [
    {
     "data": {
      "text/plain": [
       "[((1100, 201), 2.6758243061720797),\n",
       " ((1100, 405), 1.652081205197201),\n",
       " ((100, 1), 3.766693784394797)]"
      ]
     },
     "execution_count": 18,
     "metadata": {},
     "output_type": "execute_result"
    }
   ],
   "source": [
    "predictions.take(3)"
   ]
  },
  {
   "cell_type": "code",
   "execution_count": 20,
   "metadata": {
    "collapsed": false
   },
   "outputs": [
    {
     "data": {
      "text/plain": [
       "[((492, 474), (4.0, 4.103014935235372)),\n",
       " ((414, 488), (2.0, 3.2609309990147572)),\n",
       " ((255, 839), (3.0, 3.083994191313232))]"
      ]
     },
     "execution_count": 20,
     "metadata": {},
     "output_type": "execute_result"
    }
   ],
   "source": [
    "rates_and_preds.take(3)"
   ]
  },
  {
   "cell_type": "code",
   "execution_count": 21,
   "metadata": {
    "collapsed": false
   },
   "outputs": [
    {
     "name": "stdout",
     "output_type": "stream",
     "text": [
      "For testing data the RMSE is 0.986661588982\n"
     ]
    }
   ],
   "source": [
    "model = ALS.train(train_RDD, best_rank, seed=seed, iterations=iterations,\n",
    "                      lambda_=regularization_parameter)\n",
    "predictions = model.predictAll(test_for_predict_RDD).map(lambda r: ((r[0], r[1]), r[2]))\n",
    "rates_and_preds = test.map(lambda r: ((int(r[0]), int(r[3])), float(r[1]))).join(predictions)\n",
    "error = math.sqrt(rates_and_preds.map(lambda r: (r[1][0] - r[1][1])**2).mean())\n",
    "\n",
    "print 'For testing data the RMSE is %s' % (error)"
   ]
  },
  {
   "cell_type": "code",
   "execution_count": null,
   "metadata": {
    "collapsed": true
   },
   "outputs": [],
   "source": []
  }
 ],
 "metadata": {
  "kernelspec": {
   "display_name": "Python 2",
   "language": "python",
   "name": "python2"
  },
  "language_info": {
   "codemirror_mode": {
    "name": "ipython",
    "version": 2
   },
   "file_extension": ".py",
   "mimetype": "text/x-python",
   "name": "python",
   "nbconvert_exporter": "python",
   "pygments_lexer": "ipython2",
   "version": "2.7.6"
  }
 },
 "nbformat": 4,
 "nbformat_minor": 0
}
