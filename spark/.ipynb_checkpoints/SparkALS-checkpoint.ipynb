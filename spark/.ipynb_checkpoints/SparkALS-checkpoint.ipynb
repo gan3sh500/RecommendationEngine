{
 "cells": [
  {
   "cell_type": "markdown",
   "metadata": {},
   "source": [
    "# Importing Datasets"
   ]
  },
  {
   "cell_type": "code",
   "execution_count": 1,
   "metadata": {
    "collapsed": true
   },
   "outputs": [],
   "source": [
    "from pyspark.sql import SQLContext,Row\n",
    "from pyspark.sql import functions as F\n",
    "from pyspark import SparkContext"
   ]
  },
  {
   "cell_type": "code",
   "execution_count": 2,
   "metadata": {
    "collapsed": false
   },
   "outputs": [],
   "source": [
    "sqlContext = SQLContext(sc)"
   ]
  },
  {
   "cell_type": "code",
   "execution_count": 4,
   "metadata": {
    "collapsed": true
   },
   "outputs": [],
   "source": [
    "dataDir = \"/home/satvik/Analytics/Recommender Project\"\n",
    "\n",
    "userData = sc.textFile(dataDir+\"/ml-100k/u.user\").map(lambda x : x.split(\"|\"))\n",
    "movieData = sc.textFile(dataDir+\"/ml-100k/u.item\").map(lambda x : x.split(\"|\"))\n",
    "ratingData = sc.textFile(dataDir+\"/ml-100k/u.data\").map(lambda x : x.split(\"\\t\"))"
   ]
  },
  {
   "cell_type": "code",
   "execution_count": 5,
   "metadata": {
    "collapsed": false
   },
   "outputs": [],
   "source": [
    "ratingDataDF = ratingData.map(lambda x : Row(userID = int(x[0]),\n",
    "                        movieID = int(x[1]),\n",
    "                        rating=float(x[2]),\n",
    "                        timestamp = int(x[3])))\n",
    "ratingDataDF = sqlContext.createDataFrame(ratingDataDF)\n",
    "\n",
    "userDataDF = userData.map(lambda x : Row(userID=int(x[0]),\n",
    "                                        age = int(x[1]),\n",
    "                                        gender = x[2],\n",
    "                                        occupation = x[3],\n",
    "                                        zipcode = x[4]))\n",
    "userDataDF = sqlContext.createDataFrame(userDataDF)\n",
    "\n",
    "movieDataDF = movieData.map(lambda x : Row(movieID = int(x[0]),\n",
    "                                            movieTitle = x[1],\n",
    "                                            releaseDate = x[2],\n",
    "                                            videoReleaseDate = x[3],\n",
    "                                            IMDBurl = x[4],\n",
    "                                            unknown= int(x[5]),\n",
    "                                            action = int(x[6]),\n",
    "                                            adventure = int(x[7]),\n",
    "                                            animation = int(x[8]),\n",
    "                                            childrens = int(x[9]),\n",
    "                                            comedy = int(x[10]),\n",
    "                                             crime = int(x[11]),\n",
    "                                             documentary = int(x[12]),\n",
    "                                             drama = int(x[13]),\n",
    "                                             fantasy = int(x[14]),\n",
    "                                             filmNoir = int(x[15]),\n",
    "                                             horror = int(x[16]),\n",
    "                                             musical = int(x[17]),\n",
    "                                             mystery = int(x[18]),\n",
    "                                             romance = int(x[19]),\n",
    "                                             sciFi = int(x[20]),\n",
    "                                             thriller = int(x[21]),\n",
    "                                             war = int(x[22]),\n",
    "                                             western = int(x[23])))\n",
    "movieDataDF = sqlContext.createDataFrame(movieDataDF)"
   ]
  },
  {
   "cell_type": "code",
   "execution_count": 6,
   "metadata": {
    "collapsed": false
   },
   "outputs": [],
   "source": [
    "# timestamp\n",
    "def extract_datetime(ts):\n",
    "    import datetime\n",
    "    return datetime.datetime.fromtimestamp(ts)\n",
    "\n",
    "####\n",
    "newdataDF = ratingDataDF.map(lambda x: Row(x[0],x[1],x[2],x[3],extract_datetime(x[2]).day,\n",
    "                                           extract_datetime(x[2]).month,extract_datetime(x[2]).year,\n",
    "                                           extract_datetime(x[2]).hour,extract_datetime(x[2]).minute,\n",
    "                                           extract_datetime(x[2]).second)).toDF()\n",
    "ratingDataDF = newdataDF.selectExpr(\"_1 as movieID\",\"_2 as rating\",\"_3 as timestamp\",\"_4 as userID\",\n",
    "                                        \"_5 as date\",\"_6 as month\",\"_7 as year\",\n",
    "                                        \"_8 as hour\",\"_9 as minute\",\"_10 as second\")"
   ]
  },
  {
   "cell_type": "code",
   "execution_count": 7,
   "metadata": {
    "collapsed": false
   },
   "outputs": [
    {
     "name": "stdout",
     "output_type": "stream",
     "text": [
      "+-------+------+---------+------+----+-----+----+----+------+------+\n",
      "|movieID|rating|timestamp|userID|date|month|year|hour|minute|second|\n",
      "+-------+------+---------+------+----+-----+----+----+------+------+\n",
      "|    242|   3.0|881250949|   196|   4|   12|1997|  21|    25|    49|\n",
      "|    302|   3.0|891717742|   186|   5|    4|1998|   0|    52|    22|\n",
      "|    377|   1.0|878887116|    22|   7|   11|1997|  12|    48|    36|\n",
      "|     51|   2.0|880606923|   244|  27|   11|1997|  10|    32|     3|\n",
      "|    346|   1.0|886397596|   166|   2|    2|1998|  11|     3|    16|\n",
      "|    474|   4.0|884182806|   298|   7|    1|1998|  19|    50|     6|\n",
      "|    265|   2.0|881171488|   115|   3|   12|1997|  23|    21|    28|\n",
      "|    465|   5.0|891628467|   253|   4|    4|1998|   0|     4|    27|\n",
      "|    451|   3.0|886324817|   305|   1|    2|1998|  14|    50|    17|\n",
      "|     86|   3.0|883603013|     6|   1|    1|1998|   2|    46|    53|\n",
      "|    257|   2.0|879372434|    62|  13|   11|1997|   3|    37|    14|\n",
      "|   1014|   5.0|879781125|   286|  17|   11|1997|  21|     8|    45|\n",
      "|    222|   5.0|876042340|   200|   5|   10|1997|  14|    35|    40|\n",
      "|     40|   3.0|891035994|   210|  28|    3|1998|   3|    29|    54|\n",
      "|     29|   3.0|888104457|   224|  22|    2|1998|   5|    10|    57|\n",
      "|    785|   3.0|879485318|   303|  14|   11|1997|  10|    58|    38|\n",
      "|    387|   5.0|879270459|   122|  11|   11|1997|  23|    17|    39|\n",
      "|    274|   2.0|879539794|   194|  15|   11|1997|   2|     6|    34|\n",
      "|   1042|   4.0|874834944|   291|  21|    9|1997|  15|    12|    24|\n",
      "|   1184|   2.0|892079237|   234|   9|    4|1998|   5|    17|    17|\n",
      "+-------+------+---------+------+----+-----+----+----+------+------+\n",
      "only showing top 20 rows\n",
      "\n"
     ]
    }
   ],
   "source": [
    "ratingDataDF.show(20)"
   ]
  },
  {
   "cell_type": "markdown",
   "metadata": {},
   "source": [
    "# Merging Datasets"
   ]
  },
  {
   "cell_type": "code",
   "execution_count": 8,
   "metadata": {
    "collapsed": false
   },
   "outputs": [],
   "source": [
    "data = ratingDataDF.join(userDataDF, ratingDataDF.userID==userDataDF.userID, 'inner').drop(userDataDF.userID)"
   ]
  },
  {
   "cell_type": "code",
   "execution_count": 9,
   "metadata": {
    "collapsed": false
   },
   "outputs": [
    {
     "name": "stdout",
     "output_type": "stream",
     "text": [
      "+-------+------+---------+------+----+-----+----+----+------+------+---+------+----------+-------+\n",
      "|movieID|rating|timestamp|userID|date|month|year|hour|minute|second|age|gender|occupation|zipcode|\n",
      "+-------+------+---------+------+----+-----+----+----+------+------+---+------+----------+-------+\n",
      "|    886|   2.0|881547877|    31|   8|   12|1997|   7|    54|    37| 24|     M|    artist|  10003|\n",
      "|    484|   5.0|881548030|    31|   8|   12|1997|   7|    57|    10| 24|     M|    artist|  10003|\n",
      "|    682|   2.0|881547834|    31|   8|   12|1997|   7|    53|    54| 24|     M|    artist|  10003|\n",
      "|    302|   4.0|881547719|    31|   8|   12|1997|   7|    51|    59| 24|     M|    artist|  10003|\n",
      "|    135|   4.0|881548030|    31|   8|   12|1997|   7|    57|    10| 24|     M|    artist|  10003|\n",
      "|    705|   5.0|881548110|    31|   8|   12|1997|   7|    58|    30| 24|     M|    artist|  10003|\n",
      "|    504|   5.0|881548110|    31|   8|   12|1997|   7|    58|    30| 24|     M|    artist|  10003|\n",
      "|    498|   4.0|881548111|    31|   8|   12|1997|   7|    58|    31| 24|     M|    artist|  10003|\n",
      "|    493|   5.0|881548110|    31|   8|   12|1997|   7|    58|    30| 24|     M|    artist|  10003|\n",
      "|    321|   4.0|881547746|    31|   8|   12|1997|   7|    52|    26| 24|     M|    artist|  10003|\n",
      "|    514|   5.0|881548030|    31|   8|   12|1997|   7|    57|    10| 24|     M|    artist|  10003|\n",
      "|    124|   4.0|881548110|    31|   8|   12|1997|   7|    58|    30| 24|     M|    artist|  10003|\n",
      "|     79|   2.0|881548082|    31|   8|   12|1997|   7|    58|     2| 24|     M|    artist|  10003|\n",
      "|    340|   3.0|881547788|    31|   8|   12|1997|   7|    53|     8| 24|     M|    artist|  10003|\n",
      "|    268|   3.0|881547746|    31|   8|   12|1997|   7|    52|    26| 24|     M|    artist|  10003|\n",
      "|     32|   5.0|881548030|    31|   8|   12|1997|   7|    57|    10| 24|     M|    artist|  10003|\n",
      "|    175|   5.0|881548053|    31|   8|   12|1997|   7|    57|    33| 24|     M|    artist|  10003|\n",
      "|    490|   4.0|881548030|    31|   8|   12|1997|   7|    57|    10| 24|     M|    artist|  10003|\n",
      "|    875|   4.0|881547938|    31|   8|   12|1997|   7|    55|    38| 24|     M|    artist|  10003|\n",
      "|    319|   4.0|881547788|    31|   8|   12|1997|   7|    53|     8| 24|     M|    artist|  10003|\n",
      "+-------+------+---------+------+----+-----+----+----+------+------+---+------+----------+-------+\n",
      "only showing top 20 rows\n",
      "\n"
     ]
    }
   ],
   "source": [
    "data.show()"
   ]
  },
  {
   "cell_type": "code",
   "execution_count": 10,
   "metadata": {
    "collapsed": true
   },
   "outputs": [],
   "source": [
    "data = data.join(movieDataDF,data.movieID==movieDataDF.movieID,\"inner\").drop(movieDataDF.movieID)"
   ]
  },
  {
   "cell_type": "code",
   "execution_count": 11,
   "metadata": {
    "collapsed": false
   },
   "outputs": [
    {
     "data": {
      "text/plain": [
       "100000"
      ]
     },
     "execution_count": 11,
     "metadata": {},
     "output_type": "execute_result"
    }
   ],
   "source": [
    "data.count()"
   ]
  },
  {
   "cell_type": "code",
   "execution_count": 12,
   "metadata": {
    "collapsed": false
   },
   "outputs": [
    {
     "name": "stdout",
     "output_type": "stream",
     "text": [
      "root\n",
      " |-- movieID: long (nullable = true)\n",
      " |-- rating: double (nullable = true)\n",
      " |-- timestamp: long (nullable = true)\n",
      " |-- userID: long (nullable = true)\n",
      " |-- date: long (nullable = true)\n",
      " |-- month: long (nullable = true)\n",
      " |-- year: long (nullable = true)\n",
      " |-- hour: long (nullable = true)\n",
      " |-- minute: long (nullable = true)\n",
      " |-- second: long (nullable = true)\n",
      " |-- age: long (nullable = true)\n",
      " |-- gender: string (nullable = true)\n",
      " |-- occupation: string (nullable = true)\n",
      " |-- zipcode: string (nullable = true)\n",
      " |-- IMDBurl: string (nullable = true)\n",
      " |-- action: long (nullable = true)\n",
      " |-- adventure: long (nullable = true)\n",
      " |-- animation: long (nullable = true)\n",
      " |-- childrens: long (nullable = true)\n",
      " |-- comedy: long (nullable = true)\n",
      " |-- crime: long (nullable = true)\n",
      " |-- documentary: long (nullable = true)\n",
      " |-- drama: long (nullable = true)\n",
      " |-- fantasy: long (nullable = true)\n",
      " |-- filmNoir: long (nullable = true)\n",
      " |-- horror: long (nullable = true)\n",
      " |-- movieTitle: string (nullable = true)\n",
      " |-- musical: long (nullable = true)\n",
      " |-- mystery: long (nullable = true)\n",
      " |-- releaseDate: string (nullable = true)\n",
      " |-- romance: long (nullable = true)\n",
      " |-- sciFi: long (nullable = true)\n",
      " |-- thriller: long (nullable = true)\n",
      " |-- unknown: long (nullable = true)\n",
      " |-- videoReleaseDate: string (nullable = true)\n",
      " |-- war: long (nullable = true)\n",
      " |-- western: long (nullable = true)\n",
      "\n"
     ]
    }
   ],
   "source": [
    "data.printSchema()"
   ]
  },
  {
   "cell_type": "code",
   "execution_count": 13,
   "metadata": {
    "collapsed": false
   },
   "outputs": [
    {
     "data": {
      "text/plain": [
       "0"
      ]
     },
     "execution_count": 13,
     "metadata": {},
     "output_type": "execute_result"
    }
   ],
   "source": [
    "#removing Null values\n",
    "nullDF = data.filter(data['movieID'].isNull() |\n",
    "                        data['movieTitle'].isNull() |\n",
    "                        data['releaseDate'].isNull() |\n",
    "                        data['videoReleaseDate'].isNull() |\n",
    "                        data['IMDBurl'].isNull() |\n",
    "                        data['unknown'].isNull() |\n",
    "                        data['action'].isNull() |\n",
    "                        data['adventure'].isNull() |\n",
    "                        data['animation'].isNull() |\n",
    "                        data['childrens'].isNull() |\n",
    "                        data['comedy'].isNull() |\n",
    "                        data['crime'].isNull() |\n",
    "                        data['documentary'].isNull() |\n",
    "                        data['drama'].isNull() |\n",
    "                        data['fantasy'].isNull() |\n",
    "                        data['filmNoir'].isNull() |\n",
    "                        data['horror'].isNull() |\n",
    "                        data['musical'].isNull() |\n",
    "                        data['mystery'].isNull() |\n",
    "                        data['romance'].isNull() |\n",
    "                        data['sciFi'].isNull() |\n",
    "                        data['thriller'].isNull() |\n",
    "                        data['userID'].isNull() |\n",
    "                        data['age'].isNull() |\n",
    "                        data['gender'].isNull() |\n",
    "                        data['occupation'].isNull() |\n",
    "                        data['zipcode'].isNull() |\n",
    "                        data['userID'].isNull() |\n",
    "                        data['movieID'].isNull() |\n",
    "                        data['rating'].isNull() |\n",
    "                        data['timestamp'].isNull() | \n",
    "                        data['war'].isNull())                \n",
    "nullDF.count()"
   ]
  },
  {
   "cell_type": "code",
   "execution_count": 14,
   "metadata": {
    "collapsed": true
   },
   "outputs": [],
   "source": [
    "# dropping video releasedate and IMDBurl\n",
    "data = data.drop('videoReleaseDate')\n",
    "data = data.drop('IMDBurl')"
   ]
  },
  {
   "cell_type": "code",
   "execution_count": 15,
   "metadata": {
    "collapsed": true
   },
   "outputs": [],
   "source": [
    "#resolving occupation and gender\n",
    "gen_categories = data.select('gender').distinct().rdd.flatMap(lambda x: x).collect()\n",
    "occ_categories = data.select('occupation').distinct().rdd.flatMap(lambda x: x).collect()\n",
    "\n",
    "exprs = [F.when(F.col(\"gender\") == category, 1).otherwise(0).alias(category)\n",
    "         for category in gen_categories]\n",
    "\n",
    "exprss = [F.when(F.col(\"occupation\") == category, 1).otherwise(0).alias(category)\n",
    "         for category in occ_categories]\n",
    "gennewdata = data.select('gender',*exprs)\n",
    "occnewdata = data.select('occupation',*exprss)\n",
    "data1 = data.join(gennewdata,'gender','inner').drop('gender')\n",
    "data2 = data1.join(occnewdata,'occupation','inner').drop('occupation')"
   ]
  },
  {
   "cell_type": "code",
   "execution_count": 16,
   "metadata": {
    "collapsed": false
   },
   "outputs": [
    {
     "data": {
      "text/plain": [
       "['movieID',\n",
       " 'rating',\n",
       " 'timestamp',\n",
       " 'userID',\n",
       " 'date',\n",
       " 'month',\n",
       " 'year',\n",
       " 'hour',\n",
       " 'minute',\n",
       " 'second',\n",
       " 'age',\n",
       " 'zipcode',\n",
       " 'action',\n",
       " 'adventure',\n",
       " 'animation',\n",
       " 'childrens',\n",
       " 'comedy',\n",
       " 'crime',\n",
       " 'documentary',\n",
       " 'drama',\n",
       " 'fantasy',\n",
       " 'filmNoir',\n",
       " 'horror',\n",
       " 'movieTitle',\n",
       " 'musical',\n",
       " 'mystery',\n",
       " 'releaseDate',\n",
       " 'romance',\n",
       " 'sciFi',\n",
       " 'thriller',\n",
       " 'unknown',\n",
       " 'war',\n",
       " 'western',\n",
       " 'F',\n",
       " 'M',\n",
       " 'administrator',\n",
       " 'salesman',\n",
       " 'programmer',\n",
       " 'doctor',\n",
       " 'scientist',\n",
       " 'lawyer',\n",
       " 'homemaker',\n",
       " 'retired',\n",
       " 'engineer',\n",
       " 'none',\n",
       " 'educator',\n",
       " 'writer',\n",
       " 'other',\n",
       " 'executive',\n",
       " 'entertainment',\n",
       " 'artist',\n",
       " 'marketing',\n",
       " 'technician',\n",
       " 'student',\n",
       " 'healthcare',\n",
       " 'librarian']"
      ]
     },
     "execution_count": 16,
     "metadata": {},
     "output_type": "execute_result"
    }
   ],
   "source": [
    "data2.columns"
   ]
  },
  {
   "cell_type": "code",
   "execution_count": null,
   "metadata": {
    "collapsed": false
   },
   "outputs": [],
   "source": []
  },
  {
   "cell_type": "markdown",
   "metadata": {},
   "source": [
    "# ALS"
   ]
  },
  {
   "cell_type": "code",
   "execution_count": 17,
   "metadata": {
    "collapsed": false
   },
   "outputs": [],
   "source": [
    "RDD_data = data.rdd"
   ]
  },
  {
   "cell_type": "markdown",
   "metadata": {},
   "source": [
    "### Splitting data"
   ]
  },
  {
   "cell_type": "code",
   "execution_count": 18,
   "metadata": {
    "collapsed": false
   },
   "outputs": [],
   "source": [
    "train,validation,test = RDD_data.randomSplit([6,2,2],seed=0L)"
   ]
  },
  {
   "cell_type": "code",
   "execution_count": 19,
   "metadata": {
    "collapsed": false
   },
   "outputs": [
    {
     "data": {
      "text/plain": [
       "[Row(movieID=31, rating=5.0, timestamp=884131157, userID=435, date=7, month=1, year=1998, hour=5, minute=29, second=17, age=24, gender=u'M', occupation=u'engineer', zipcode=u'60007', action=0, adventure=0, animation=0, childrens=0, comedy=0, crime=0, documentary=0, drama=1, fantasy=0, filmNoir=0, horror=0, movieTitle=u'Crimson Tide (1995)', musical=0, mystery=0, releaseDate=u'01-Jan-1995', romance=0, sciFi=0, thriller=1, unknown=0, war=1, western=0),\n",
       " Row(movieID=31, rating=3.0, timestamp=890687473, userID=41, date=24, month=3, year=1998, hour=2, minute=41, second=13, age=33, gender=u'M', occupation=u'engineer', zipcode=u'80525', action=0, adventure=0, animation=0, childrens=0, comedy=0, crime=0, documentary=0, drama=1, fantasy=0, filmNoir=0, horror=0, movieTitle=u'Crimson Tide (1995)', musical=0, mystery=0, releaseDate=u'01-Jan-1995', romance=0, sciFi=0, thriller=1, unknown=0, war=1, western=0),\n",
       " Row(movieID=31, rating=4.0, timestamp=875807058, userID=851, date=2, month=10, year=1997, hour=21, minute=14, second=18, age=18, gender=u'M', occupation=u'other', zipcode=u'29646', action=0, adventure=0, animation=0, childrens=0, comedy=0, crime=0, documentary=0, drama=1, fantasy=0, filmNoir=0, horror=0, movieTitle=u'Crimson Tide (1995)', musical=0, mystery=0, releaseDate=u'01-Jan-1995', romance=0, sciFi=0, thriller=1, unknown=0, war=1, western=0)]"
      ]
     },
     "execution_count": 19,
     "metadata": {},
     "output_type": "execute_result"
    }
   ],
   "source": [
    "validation.take(3)"
   ]
  },
  {
   "cell_type": "code",
   "execution_count": 20,
   "metadata": {
    "collapsed": true
   },
   "outputs": [],
   "source": [
    "train_RDD = train.map(lambda x: (x[0],x[3],x[1]))\n",
    "validation_for_predict_RDD = validation.map(lambda x: (x[0], x[3]))\n",
    "test_for_predict_RDD = test.map(lambda x: (x[0], x[3]))"
   ]
  },
  {
   "cell_type": "code",
   "execution_count": 21,
   "metadata": {
    "collapsed": false
   },
   "outputs": [
    {
     "data": {
      "text/plain": [
       "[(31, 435), (31, 41), (31, 851)]"
      ]
     },
     "execution_count": 21,
     "metadata": {},
     "output_type": "execute_result"
    }
   ],
   "source": [
    "validation_for_predict_RDD.take(3)"
   ]
  },
  {
   "cell_type": "code",
   "execution_count": 22,
   "metadata": {
    "collapsed": false
   },
   "outputs": [
    {
     "name": "stdout",
     "output_type": "stream",
     "text": [
      "Iteration starts...\n",
      "For rank 18 the RMSE is 0.98497204399\n",
      "Iteration starts...\n",
      "For rank 15 the RMSE is 0.997378110304\n",
      "Iteration starts...\n",
      "For rank 12 the RMSE is 0.98847546646\n",
      "The best model was trained with rank 18\n"
     ]
    }
   ],
   "source": [
    "from pyspark.mllib.recommendation import ALS\n",
    "import math\n",
    "\n",
    "seed = 5L\n",
    "iterations = 2\n",
    "regularization_parameter = 0.1\n",
    "ranks = [18, 15, 12]\n",
    "errors = [0, 0, 0]\n",
    "err = 0\n",
    "tolerance = 0.02\n",
    "\n",
    "min_error = float('inf')\n",
    "best_rank = -1\n",
    "best_iteration = -1\n",
    "for rank in ranks:\n",
    "    print \"Iteration starts...\"\n",
    "    model = ALS.train(train_RDD, rank, seed=seed, iterations=iterations,\n",
    "                      lambda_=regularization_parameter)\n",
    "    predictions = model.predictAll(validation_for_predict_RDD).map(lambda r: ((r[0], r[1]), r[2]))\n",
    "    rates_and_preds = validation.map(lambda r: ((int(r[0]), int(r[3])), float(r[1]))).join(predictions)\n",
    "    error = math.sqrt(rates_and_preds.map(lambda r: (r[1][0] - r[1][1])**2).mean())\n",
    "    errors[err] = error\n",
    "    err += 1\n",
    "    print 'For rank %s the RMSE is %s' % (rank, error)\n",
    "    if error < min_error:\n",
    "        min_error = error\n",
    "        best_rank = rank\n",
    "\n",
    "print 'The best model was trained with rank %s' % best_rank"
   ]
  },
  {
   "cell_type": "code",
   "execution_count": 23,
   "metadata": {
    "collapsed": false
   },
   "outputs": [
    {
     "data": {
      "text/plain": [
       "[((1100, 201), 2.6758243061720797),\n",
       " ((1100, 405), 1.652081205197201),\n",
       " ((100, 1), 3.766693784394797)]"
      ]
     },
     "execution_count": 23,
     "metadata": {},
     "output_type": "execute_result"
    }
   ],
   "source": [
    "predictions.take(3)"
   ]
  },
  {
   "cell_type": "code",
   "execution_count": 24,
   "metadata": {
    "collapsed": false
   },
   "outputs": [
    {
     "data": {
      "text/plain": [
       "[((492, 474), (4.0, 4.103014935235372)),\n",
       " ((414, 488), (2.0, 3.2609309990147572)),\n",
       " ((255, 839), (3.0, 3.083994191313232))]"
      ]
     },
     "execution_count": 24,
     "metadata": {},
     "output_type": "execute_result"
    }
   ],
   "source": [
    "rates_and_preds.take(3)"
   ]
  },
  {
   "cell_type": "code",
   "execution_count": 25,
   "metadata": {
    "collapsed": false
   },
   "outputs": [
    {
     "name": "stdout",
     "output_type": "stream",
     "text": [
      "For testing data the RMSE is 0.984570186144\n"
     ]
    }
   ],
   "source": [
    "model = ALS.train(train_RDD, best_rank, seed=seed, iterations=iterations,\n",
    "                      lambda_=regularization_parameter)\n",
    "predictions = model.predictAll(test_for_predict_RDD).map(lambda r: ((r[0], r[1]), r[2]))\n",
    "rates_and_preds = test.map(lambda r: ((int(r[0]), int(r[3])), float(r[1]))).join(predictions)\n",
    "error = math.sqrt(rates_and_preds.map(lambda r: (r[1][0] - r[1][1])**2).mean())\n",
    "\n",
    "print 'For testing data the RMSE is %s' % (error)"
   ]
  },
  {
   "cell_type": "code",
   "execution_count": 27,
   "metadata": {
    "collapsed": false
   },
   "outputs": [
    {
     "data": {
      "text/plain": [
       "[(31, 233, 3.0), (31, 234, 4.0), (31, 442, 3.0), (31, 249, 4.0), (31, 56, 4.0)]"
      ]
     },
     "execution_count": 27,
     "metadata": {},
     "output_type": "execute_result"
    }
   ],
   "source": [
    "train_RDD.take(5)"
   ]
  }
 ],
 "metadata": {
  "kernelspec": {
   "display_name": "Python 2",
   "language": "python",
   "name": "python2"
  },
  "language_info": {
   "codemirror_mode": {
    "name": "ipython",
    "version": 2
   },
   "file_extension": ".py",
   "mimetype": "text/x-python",
   "name": "python",
   "nbconvert_exporter": "python",
   "pygments_lexer": "ipython2",
   "version": "2.7.6"
  }
 },
 "nbformat": 4,
 "nbformat_minor": 0
}
